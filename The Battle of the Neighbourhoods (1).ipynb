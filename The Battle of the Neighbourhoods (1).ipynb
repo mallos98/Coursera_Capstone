{
 "cells": [
  {
   "cell_type": "markdown",
   "metadata": {},
   "source": [
    "# Capstone: Find the best U.K. Postal Code in which to Open a Restaurant Supply Store - (1/2)\n",
    "\n",
    "by Max Allos\n",
    "\n",
    "## Introduction \n",
    "\n",
    "A friend of mine who runs a leading Restaurant Supply Store has found out that I am studying data science and has asked for help in trying to determine which Postal Code in the U.K. he should open his new store in.\n",
    "As I am a man of the people, I sat down with him to discuss the problem and its requirements.\n",
    "\n",
    "## Problem Description\n",
    "\n",
    "Which postal code should my friend open his new Restaurant Supply store in the UK?\n",
    "He wants to ensure a thriving business that bares in mind the effect of covid on the industry.\n",
    "\n",
    "## Requirements\n",
    "\n",
    "### 1. It needs to be loacted in an area with a high density of restaurants\n",
    "### 2. There should be heavy footfall of wealthy clients around this area\n",
    "### 3. This area should have less covid cases than the mean UK postal code\n",
    "### 4. Confirm assumptions by means of modeling and testing\n",
    "\n",
    "Locating their new store according to these requirements will ensure the following:\n",
    "- There will be high demand at all times thanks to the restaurants around them needing supply\n",
    "- A heavy footfall of wealthy clents will mean there are more people with a higher disposable income\n",
    "- In the UK areas are closing down based on how many Covid cases there are in that area. If they open in an area with less covid cases, there is a higher chance they will remain open during the pandemic.\n",
    "- All of the above will help result in greater customer satisfaction \n"
   ]
  },
  {
   "cell_type": "markdown",
   "metadata": {},
   "source": []
  }
 ],
 "metadata": {
  "kernelspec": {
   "display_name": "Python 3",
   "language": "python",
   "name": "python3"
  },
  "language_info": {
   "codemirror_mode": {
    "name": "ipython",
    "version": 3
   },
   "file_extension": ".py",
   "mimetype": "text/x-python",
   "name": "python",
   "nbconvert_exporter": "python",
   "pygments_lexer": "ipython3",
   "version": "3.6.8"
  }
 },
 "nbformat": 4,
 "nbformat_minor": 4
}
