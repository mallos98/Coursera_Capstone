{
 "cells": [
  {
   "cell_type": "markdown",
   "metadata": {},
   "source": [
    "# Capstone: Find the best U.K. Postal Code in which to Open a Restaurant Supply Store - (2/2)\n",
    "\n",
    "## Data Requirements\n",
    "\n",
    "To be able to acheive these requirements, we will need to take data from multiple sources:\n",
    "\n",
    "### 1. We will need a list of UK postal codes\n",
    "This information is readily available from wikipedia:  \n",
    "  https://en.wikipedia.org/wiki/List_of_postcode_areas_in_the_United_Kingdom_by_population\n",
    "### 2. We will need the average salary per UK postal code \n",
    "This information is not readily available however we will take the average salaries per 'Region' and then assign each postcode to a region: \n",
    "  https://commonslibrary.parliament.uk/research-briefings/cbp-8456/\n",
    "### 3. We will need the number of Covid cases per UK postal code\n",
    "This information is not readily available however we will take the covid cases per 'Region' and then assign each postcode to a region:   \n",
    "  https://coronavirus.data.gov.uk/details/download\n",
    "### 4. We will need a table relating UK postal codes to UK regions\n",
    "This will allow us to assign each postcode a result for covid cases and average salary:  \n",
    "  https://www.robertsharp.co.uk/2017/08/09/a-table-that-shows-the-uk-region-for-all-postcode-districts/\n",
    "### 5. We will need the population density of each postal code \n",
    "  https://www.nomisweb.co.uk/census/2011/qs102ew\n",
    "### 6. We will need a list of all Restaurant Venues from all Post codes in the UK\n",
    "We use 4SQUARE API to download all venues from all postcodes in the UK.   \n",
    "  https://api.foursquare.com\n",
    "### 7. Combine all of those into a working Data Set to cluster and geo spatial map of the results showing the best neighborhood to open a Restaurant Supply Store\n",
    "Combining all of these disparate data sets will clearly demonstrate the following:\n",
    "\n",
    "- Which postal codes have clusters of like restaurants\n",
    "- The population density of each postcode relating to footfall\n",
    "- Which areas are most likely to stay open during the pandemic \n",
    "- The average salary per UK Region \n",
    "- Which area will yield the best results for a restaurant"
   ]
  },
  {
   "cell_type": "code",
   "execution_count": null,
   "metadata": {},
   "outputs": [],
   "source": []
  }
 ],
 "metadata": {
  "kernelspec": {
   "display_name": "Python 3",
   "language": "python",
   "name": "python3"
  },
  "language_info": {
   "codemirror_mode": {
    "name": "ipython",
    "version": 3
   },
   "file_extension": ".py",
   "mimetype": "text/x-python",
   "name": "python",
   "nbconvert_exporter": "python",
   "pygments_lexer": "ipython3",
   "version": "3.6.8"
  }
 },
 "nbformat": 4,
 "nbformat_minor": 4
}
